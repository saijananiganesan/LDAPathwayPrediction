{
 "cells": [
  {
   "cell_type": "markdown",
   "metadata": {},
   "source": [
    "# Demo of LDAPathwayPrediction modeling pipeline"
   ]
  },
  {
   "cell_type": "markdown",
   "metadata": {},
   "source": [
    "## Load all required modules"
   ]
  },
  {
   "cell_type": "code",
   "execution_count": 1,
   "metadata": {},
   "outputs": [],
   "source": [
    "from Model import Model\n",
    "from Validation import Validation\n",
    "import matplotlib.pyplot as plt\n",
    "import pandas as pd\n",
    "pd.set_option('mode.chained_assignment', None)\n",
    "import numpy as np"
   ]
  },
  {
   "cell_type": "markdown",
   "metadata": {},
   "source": [
    "## Load data files "
   ]
  },
  {
   "cell_type": "code",
   "execution_count": 2,
   "metadata": {},
   "outputs": [],
   "source": [
    "data_df=Model().df_pkl\n",
    "train,test,train_df,test_df=Model().get_train_and_test(data_df.copy())"
   ]
  },
  {
   "cell_type": "markdown",
   "metadata": {},
   "source": [
    "## Get dictionary and corpus from train set"
   ]
  },
  {
   "cell_type": "code",
   "execution_count": null,
   "metadata": {},
   "outputs": [],
   "source": [
    "dictionary,corpus=Model().get_dict_corpus(train)\n",
    "model=Model().MyLDA(corpus,dictionary,num_topics=100,random_state=250,passes=100)"
   ]
  },
  {
   "cell_type": "markdown",
   "metadata": {},
   "source": [
    "## Get similarity between topics"
   ]
  },
  {
   "cell_type": "code",
   "execution_count": null,
   "metadata": {},
   "outputs": [],
   "source": [
    "distance_list=Validation().get_topic_similarity(topics=150,model=model,distance='jaccard')"
   ]
  },
  {
   "cell_type": "code",
   "execution_count": null,
   "metadata": {},
   "outputs": [],
   "source": [
    "#higher the value, more dissimilar the topics\n",
    "print (\"Mean distance is {} and standard deviation is {}\".format(np.mean(distance_list),np.std(distance_list)))"
   ]
  },
  {
   "cell_type": "markdown",
   "metadata": {},
   "source": [
    "## Test the model with test set"
   ]
  },
  {
   "cell_type": "code",
   "execution_count": null,
   "metadata": {},
   "outputs": [],
   "source": [
    "Model_load=Validation().model\n"
   ]
  },
  {
   "cell_type": "code",
   "execution_count": null,
   "metadata": {},
   "outputs": [],
   "source": [
    "#test_df=Validation().convert_list_to_df(test)\n",
    "Model_load=Validation().model\n",
    "output=Validation().solution_for_one_df(test_df,dictionary,Model_load)"
   ]
  },
  {
   "cell_type": "code",
   "execution_count": null,
   "metadata": {},
   "outputs": [],
   "source": [
    "Validation().print_testing_results(output)"
   ]
  },
  {
   "cell_type": "markdown",
   "metadata": {},
   "source": [
    "## Run n-fold validation to check test measures"
   ]
  },
  {
   "cell_type": "code",
   "execution_count": 3,
   "metadata": {},
   "outputs": [
    {
     "name": "stdout",
     "output_type": "stream",
     "text": [
      "3281\n",
      "test pathway:Pantothenate and CoA biosynthesis\n",
      "Tp,Fp,Fn,Tn:(14, 104, 19, 3144); true length:33\n",
      "3281\n",
      "test pathway:Degradation of aromatic compounds\n",
      "Tp,Fp,Fn,Tn:(91, 605, 26, 2559); true length:117\n",
      "3281\n",
      "test pathway:Ether lipid metabolism\n",
      "Tp,Fp,Fn,Tn:(10, 113, 14, 3144); true length:24\n",
      "3281\n",
      "test pathway:Microbial metabolism in diverse environments\n",
      "Tp,Fp,Fn,Tn:(679, 912, 59, 1645); true length:738\n",
      "3281\n",
      "test pathway:Polycyclic aromatic hydrocarbon degradation\n",
      "Tp,Fp,Fn,Tn:(5, 220, 17, 3039); true length:22\n",
      "3281\n",
      "test pathway:Naphthalene degradation\n",
      "Tp,Fp,Fn,Tn:(2, 55, 7, 3217); true length:9\n",
      "3281\n",
      "test pathway:Xylene degradation\n",
      "Tp,Fp,Fn,Tn:(14, 417, 8, 2842); true length:22\n",
      "3281\n",
      "test pathway:Pyruvate metabolism\n",
      "Tp,Fp,Fn,Tn:(49, 707, 27, 2512); true length:76\n",
      "3281\n",
      "test pathway:2-Oxocarboxylic acid metabolism\n",
      "Tp,Fp,Fn,Tn:(50, 264, 5, 2997); true length:55\n",
      "3281\n",
      "test pathway:Penicillin and cephalosporin biosynthesis\n",
      "Tp,Fp,Fn,Tn:(14, 182, 0, 3085); true length:14\n",
      "3281\n",
      "test pathway:Biosynthesis of siderophore group nonribosomal peptides\n",
      "Tp,Fp,Fn,Tn:(5, 178, 0, 3098); true length:5\n",
      "3281\n",
      "test pathway:Inositol phosphate metabolism\n",
      "Tp,Fp,Fn,Tn:(9, 406, 40, 2840); true length:49\n",
      "3281\n",
      "test pathway:alpha-Linolenic acid metabolism\n",
      "Tp,Fp,Fn,Tn:(10, 186, 6, 3079); true length:16\n",
      "3281\n",
      "test pathway:Taurine and hypotaurine metabolism\n",
      "Tp,Fp,Fn,Tn:(14, 367, 9, 2905); true length:23\n",
      "3281\n",
      "test pathway:Pentose phosphate pathway\n",
      "Tp,Fp,Fn,Tn:(47, 563, 12, 2659); true length:59\n",
      "3281\n",
      "test pathway:Histidine metabolism\n",
      "Tp,Fp,Fn,Tn:(22, 433, 19, 2825); true length:41\n",
      "3281\n",
      "test pathway:D-Glutamine and D-glutamate metabolism\n",
      "Tp,Fp,Fn,Tn:(19, 112, 7, 3143); true length:26\n",
      "3281\n",
      "test pathway:Valine, leucine and isoleucine degradation\n",
      "Tp,Fp,Fn,Tn:(30, 550, 7, 2743); true length:37\n",
      "3281\n",
      "test pathway:Mannose type O-glycan biosynthesis\n",
      "Tp,Fp,Fn,Tn:(2, 80, 4, 3202); true length:6\n",
      "3281\n",
      "test pathway:Polyketide sugar unit biosynthesis\n",
      "Tp,Fp,Fn,Tn:(28, 275, 0, 2978); true length:28\n",
      "3281\n",
      "test pathway:Biosynthesis of type II polyketide products\n",
      "Tp,Fp,Fn,Tn:(31, 609, 0, 2641); true length:31\n",
      "3281\n",
      "test pathway:D-Arginine and D-ornithine metabolism\n",
      "Tp,Fp,Fn,Tn:(7, 218, 5, 3051); true length:12\n",
      "3281\n",
      "test pathway:Carotenoid biosynthesis\n",
      "Tp,Fp,Fn,Tn:(3, 29, 40, 3209); true length:43\n",
      "3281\n",
      "test pathway:Peptidoglycan biosynthesis\n",
      "Tp,Fp,Fn,Tn:(7, 278, 10, 2986); true length:17\n",
      "3281\n",
      "test pathway:Taurine and hypotaurine metabolism\n",
      "Tp,Fp,Fn,Tn:(12, 332, 11, 2940); true length:23\n",
      "3281\n",
      "test pathway:Degradation of aromatic compounds\n",
      "Tp,Fp,Fn,Tn:(105, 556, 12, 2608); true length:117\n",
      "3281\n",
      "test pathway:Cysteine and methionine metabolism\n",
      "Tp,Fp,Fn,Tn:(45, 1042, 40, 2154); true length:85\n",
      "3281\n",
      "test pathway:Biosynthesis of various secondary metabolites - part 2\n",
      "Tp,Fp,Fn,Tn:(13, 475, 15, 2778); true length:28\n",
      "3281\n",
      "test pathway:Limonene and pinene degradation\n",
      "Tp,Fp,Fn,Tn:(3, 94, 13, 3171); true length:16\n",
      "3281\n",
      "test pathway:Sphingolipid metabolism\n",
      "Tp,Fp,Fn,Tn:(5, 265, 24, 2987); true length:29\n",
      "3281\n",
      "test pathway:Glycosphingolipid biosynthesis - lacto and neolacto series\n",
      "Tp,Fp,Fn,Tn:(0, 0, 15, 3266); true length:15\n",
      "3281\n",
      "test pathway:Polyketide sugar unit biosynthesis\n",
      "Tp,Fp,Fn,Tn:(28, 351, 0, 2902); true length:28\n",
      "3281\n",
      "test pathway:Ethylbenzene degradation\n",
      "Tp,Fp,Fn,Tn:(6, 156, 0, 3119); true length:6\n",
      "3281\n",
      "test pathway:Glycerolipid metabolism\n",
      "Tp,Fp,Fn,Tn:(20, 588, 28, 2659); true length:48\n",
      "3281\n",
      "test pathway:Cutin, suberine and wax biosynthesis\n",
      "Tp,Fp,Fn,Tn:(1, 33, 8, 3239); true length:9\n",
      "3281\n",
      "test pathway:Thiamine metabolism\n",
      "Tp,Fp,Fn,Tn:(6, 408, 24, 2843); true length:30\n",
      "3281\n",
      "test pathway:Monobactam biosynthesis\n",
      "Tp,Fp,Fn,Tn:(10, 373, 0, 2898); true length:10\n",
      "3281\n",
      "test pathway:Metabolic pathways\n",
      "Tp,Fp,Fn,Tn:(2101, 488, 533, 333); true length:2634\n",
      "3281\n",
      "test pathway:Methane metabolism\n",
      "Tp,Fp,Fn,Tn:(72, 524, 23, 2662); true length:95\n",
      "3281\n",
      "test pathway:Pantothenate and CoA biosynthesis\n",
      "Tp,Fp,Fn,Tn:(14, 158, 19, 3090); true length:33\n",
      "3281\n",
      "test pathway:Aminoacyl-tRNA biosynthesis\n",
      "Tp,Fp,Fn,Tn:(7, 281, 24, 2993); true length:31\n",
      "3281\n",
      "test pathway:Citrate cycle (TCA cycle)\n",
      "Tp,Fp,Fn,Tn:(30, 312, 0, 2953); true length:30\n",
      "3281\n",
      "test pathway:Geraniol degradation\n",
      "Tp,Fp,Fn,Tn:(7, 159, 3, 3112); true length:10\n",
      "3281\n",
      "test pathway:C5-Branched dibasic acid metabolism\n",
      "Tp,Fp,Fn,Tn:(14, 315, 10, 2942); true length:24\n",
      "3281\n",
      "test pathway:Sesquiterpenoid and triterpenoid biosynthesis\n",
      "Tp,Fp,Fn,Tn:(12, 311, 70, 2888); true length:82\n",
      "3281\n",
      "test pathway:Cyanoamino acid metabolism\n",
      "Tp,Fp,Fn,Tn:(16, 456, 16, 2807); true length:32\n",
      "3281\n",
      "test pathway:Phenazine biosynthesis\n",
      "Tp,Fp,Fn,Tn:(13, 174, 0, 3094); true length:13\n",
      "3281\n",
      "test pathway:Inositol phosphate metabolism\n",
      "Tp,Fp,Fn,Tn:(9, 287, 40, 2959); true length:49\n",
      "3281\n",
      "test pathway:Biotin metabolism\n",
      "Tp,Fp,Fn,Tn:(5, 15, 15, 3246); true length:20\n",
      "3281\n",
      "test pathway:Biosynthesis of amino acids\n",
      "Tp,Fp,Fn,Tn:(146, 575, 2, 2611); true length:148\n",
      "3281\n",
      "test pathway:Nitrogen metabolism\n",
      "Tp,Fp,Fn,Tn:(16, 342, 27, 2896); true length:43\n",
      "3281\n",
      "test pathway:Glycerophospholipid metabolism\n",
      "Tp,Fp,Fn,Tn:(18, 448, 47, 2803); true length:65\n",
      "3281\n",
      "test pathway:Streptomycin biosynthesis\n",
      "Tp,Fp,Fn,Tn:(19, 425, 0, 2872); true length:19\n",
      "3281\n",
      "test pathway:Biosynthesis of 12-, 14- and 16-membered macrolides\n",
      "Tp,Fp,Fn,Tn:(17, 122, 0, 3142); true length:17\n",
      "3281\n",
      "test pathway:Biosynthesis of various secondary metabolites - part 1\n",
      "Tp,Fp,Fn,Tn:(9, 212, 16, 3044); true length:25\n",
      "3281\n",
      "test pathway:Drug metabolism - other enzymes\n",
      "Tp,Fp,Fn,Tn:(23, 501, 3, 2754); true length:26\n",
      "3281\n",
      "test pathway:Carbapenem biosynthesis\n",
      "Tp,Fp,Fn,Tn:(5, 276, 0, 3000); true length:5\n",
      "3281\n",
      "test pathway:Alanine, aspartate and glutamate metabolism\n",
      "Tp,Fp,Fn,Tn:(43, 824, 14, 2418); true length:57\n",
      "3281\n",
      "test pathway:Lysine degradation\n",
      "Tp,Fp,Fn,Tn:(28, 516, 42, 2702); true length:70\n",
      "3281\n",
      "test pathway:Arabinogalactan biosynthesis - Mycobacterium\n",
      "Tp,Fp,Fn,Tn:(0, 0, 4, 3281); true length:4\n",
      "3281\n",
      "test pathway:Galactose metabolism\n",
      "Tp,Fp,Fn,Tn:(31, 589, 21, 2640); true length:52\n",
      "3281\n",
      "test pathway:Terpenoid backbone biosynthesis\n",
      "Tp,Fp,Fn,Tn:(33, 394, 19, 2835); true length:52\n",
      "3281\n",
      "test pathway:Pyrimidine metabolism\n",
      "Tp,Fp,Fn,Tn:(32, 607, 36, 2606); true length:68\n",
      "3281\n",
      "test pathway:D-Alanine metabolism\n",
      "Tp,Fp,Fn,Tn:(2, 230, 3, 3046); true length:5\n",
      "3281\n",
      "test pathway:Drug metabolism - other enzymes\n",
      "Tp,Fp,Fn,Tn:(16, 475, 10, 2780); true length:26\n",
      "3281\n",
      "test pathway:Phosphonate and phosphinate metabolism\n",
      "Tp,Fp,Fn,Tn:(17, 265, 13, 2986); true length:30\n",
      "3281\n",
      "test pathway:Fructose and mannose metabolism\n",
      "Tp,Fp,Fn,Tn:(48, 501, 29, 2703); true length:77\n",
      "3281\n",
      "test pathway:Pantothenate and CoA biosynthesis\n",
      "Tp,Fp,Fn,Tn:(14, 132, 19, 3116); true length:33\n",
      "3281\n",
      "test pathway:Glycosphingolipid biosynthesis - lacto and neolacto series\n",
      "Tp,Fp,Fn,Tn:(0, 0, 15, 3266); true length:15\n",
      "3281\n",
      "test pathway:Neomycin, kanamycin and gentamicin biosynthesis\n",
      "Tp,Fp,Fn,Tn:(27, 180, 1, 3073); true length:28\n",
      "3281\n",
      "test pathway:Fatty acid elongation\n",
      "Tp,Fp,Fn,Tn:(15, 146, 0, 3134); true length:15\n",
      "3281\n",
      "test pathway:Folate biosynthesis\n",
      "Tp,Fp,Fn,Tn:(9, 517, 43, 2749); true length:52\n",
      "3281\n",
      "test pathway:Biosynthesis of various secondary metabolites - part 2\n",
      "Tp,Fp,Fn,Tn:(14, 178, 14, 3075); true length:28\n",
      "3281\n",
      "test pathway:Polycyclic aromatic hydrocarbon degradation\n",
      "Tp,Fp,Fn,Tn:(13, 106, 9, 3153); true length:22\n",
      "3281\n",
      "test pathway:Biosynthesis of unsaturated fatty acids\n",
      "Tp,Fp,Fn,Tn:(15, 136, 0, 3144); true length:15\n",
      "3281\n",
      "test pathway:Carbon fixation pathways in prokaryotes\n",
      "Tp,Fp,Fn,Tn:(54, 144, 1, 3082); true length:55\n",
      "3281\n",
      "test pathway:Glycerolipid metabolism\n",
      "Tp,Fp,Fn,Tn:(20, 561, 28, 2686); true length:48\n",
      "3281\n",
      "test pathway:Synthesis and degradation of ketone bodies\n",
      "Tp,Fp,Fn,Tn:(7, 227, 0, 3061); true length:7\n",
      "3281\n",
      "test pathway:Glycolysis / Gluconeogenesis\n",
      "Tp,Fp,Fn,Tn:(50, 738, 3, 2504); true length:53\n",
      "3281\n",
      "test pathway:Biosynthesis of siderophore group nonribosomal peptides\n",
      "Tp,Fp,Fn,Tn:(5, 266, 0, 3010); true length:5\n",
      "3281\n",
      "test pathway:Folate biosynthesis\n",
      "Tp,Fp,Fn,Tn:(9, 402, 43, 2862); true length:52\n",
      "3281\n",
      "test pathway:Biosynthesis of various secondary metabolites - part 3\n",
      "Tp,Fp,Fn,Tn:(4, 49, 20, 3208); true length:24\n",
      "3281\n",
      "test pathway:Streptomycin biosynthesis\n",
      "Tp,Fp,Fn,Tn:(11, 140, 8, 3122); true length:19\n",
      "3281\n",
      "test pathway:2-Oxocarboxylic acid metabolism\n",
      "Tp,Fp,Fn,Tn:(50, 225, 5, 3036); true length:55\n"
     ]
    },
    {
     "name": "stdout",
     "output_type": "stream",
     "text": [
      "3281\n",
      "test pathway:Carotenoid biosynthesis\n",
      "Tp,Fp,Fn,Tn:(3, 29, 40, 3209); true length:43\n",
      "3281\n",
      "test pathway:Atrazine degradation\n",
      "Tp,Fp,Fn,Tn:(3, 46, 8, 3224); true length:11\n",
      "3281\n",
      "test pathway:Biosynthesis of antibiotics\n",
      "Tp,Fp,Fn,Tn:(469, 762, 83, 1981); true length:552\n",
      "3281\n",
      "test pathway:Pentose and glucuronate interconversions\n",
      "Tp,Fp,Fn,Tn:(29, 372, 43, 2837); true length:72\n",
      "3281\n",
      "test pathway:Fluorobenzoate degradation\n",
      "Tp,Fp,Fn,Tn:(10, 205, 4, 3062); true length:14\n",
      "3281\n",
      "test pathway:Degradation of aromatic compounds\n",
      "Tp,Fp,Fn,Tn:(109, 424, 8, 2740); true length:117\n",
      "3281\n",
      "test pathway:Tetracycline biosynthesis\n",
      "Tp,Fp,Fn,Tn:(9, 153, 0, 3119); true length:9\n",
      "3281\n",
      "test pathway:Prodigiosin biosynthesis\n",
      "Tp,Fp,Fn,Tn:(5, 175, 0, 3101); true length:5\n",
      "3281\n",
      "test pathway:Purine metabolism\n",
      "Tp,Fp,Fn,Tn:(52, 930, 67, 2291); true length:119\n",
      "3281\n",
      "test pathway:Dioxin degradation\n",
      "Tp,Fp,Fn,Tn:(12, 105, 1, 3163); true length:13\n",
      "3281\n",
      "test pathway:Biosynthesis of 12-, 14- and 16-membered macrolides\n",
      "Tp,Fp,Fn,Tn:(17, 114, 0, 3150); true length:17\n",
      "3281\n",
      "test pathway:Fatty acid elongation\n",
      "Tp,Fp,Fn,Tn:(15, 60, 0, 3206); true length:15\n",
      "3281\n",
      "test pathway:Limonene and pinene degradation\n",
      "Tp,Fp,Fn,Tn:(5, 147, 11, 3118); true length:16\n",
      "3281\n",
      "test pathway:Carotenoid biosynthesis\n",
      "Tp,Fp,Fn,Tn:(3, 46, 40, 3192); true length:43\n",
      "3281\n",
      "test pathway:Phenylalanine metabolism\n",
      "Tp,Fp,Fn,Tn:(41, 688, 23, 2564); true length:64\n",
      "3281\n",
      "test pathway:Histidine metabolism\n",
      "Tp,Fp,Fn,Tn:(22, 582, 19, 2711); true length:41\n"
     ]
    }
   ],
   "source": [
    "output=Validation().nfold_cv(n=10)"
   ]
  },
  {
   "cell_type": "code",
   "execution_count": 4,
   "metadata": {},
   "outputs": [
    {
     "name": "stdout",
     "output_type": "stream",
     "text": [
      "Recall mean: 0.5986208878377992 and median 0.5877789277048289\n",
      "Precision mean: 0.08097292968202147 and median 0.07830746658099694\n",
      "Accuracy mean: 0.895586522768524 and median 0.8966981666349267\n",
      "F1 mean: 0.1287170619321387 and median 0.12764024871924481\n",
      "specificity mean: 0.8947529229853055 and median 0.8995067391884839\n"
     ]
    }
   ],
   "source": [
    "Validation().print_testing_results(output)"
   ]
  },
  {
   "cell_type": "code",
   "execution_count": null,
   "metadata": {},
   "outputs": [],
   "source": [
    "Validation().plot_a_distribution(output[0],xlabel='Recall',\n",
    "                                xlim_tuple=(0,1.1),\n",
    "                                ylabel='Density',title='Recall values')\n"
   ]
  },
  {
   "cell_type": "code",
   "execution_count": null,
   "metadata": {},
   "outputs": [],
   "source": []
  }
 ],
 "metadata": {
  "kernelspec": {
   "display_name": "Python 3",
   "language": "python",
   "name": "python3"
  },
  "language_info": {
   "codemirror_mode": {
    "name": "ipython",
    "version": 3
   },
   "file_extension": ".py",
   "mimetype": "text/x-python",
   "name": "python",
   "nbconvert_exporter": "python",
   "pygments_lexer": "ipython3",
   "version": "3.6.10"
  }
 },
 "nbformat": 4,
 "nbformat_minor": 4
}
