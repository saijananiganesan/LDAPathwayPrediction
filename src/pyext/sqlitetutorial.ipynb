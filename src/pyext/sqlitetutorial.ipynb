{
 "cells": [
  {
   "cell_type": "code",
   "execution_count": 6,
   "metadata": {},
   "outputs": [],
   "source": [
    "import sqlite3\n",
    "import time\n",
    "import datetime\n",
    "import random"
   ]
  },
  {
   "cell_type": "code",
   "execution_count": 7,
   "metadata": {},
   "outputs": [],
   "source": [
    "conn=sqlite3.connect('tutorialA.db')"
   ]
  },
  {
   "cell_type": "code",
   "execution_count": 8,
   "metadata": {},
   "outputs": [],
   "source": [
    "c=conn.cursor()"
   ]
  },
  {
   "cell_type": "code",
   "execution_count": 62,
   "metadata": {},
   "outputs": [],
   "source": [
    "def create_table():\n",
    "    c.execute('CREATE TABLE IF NOT EXISTS users (idd REAL, date TEXT, login TEXT, email TEXT)')\n",
    "    \n",
    "def data_entry():\n",
    "    c.execute('INSERT INTO users VALUES(1, \"1-1-111\",\"ala\",\"ala@gamil\")')\n",
    "    conn.commit()\n",
    "    #c.close()\n",
    "    #conn.close()\n",
    "    \n",
    "def dynamic_data_entry():\n",
    "    now=time.time()\n",
    "    date= datetime.datetime.fromtimestamp(now).strftime('%m/%d/%Y')\n",
    "    idd=random.randint(0,100)\n",
    "    login='loginid'+str(idd)\n",
    "    email=login+'@gmail.com'\n",
    "    c.execute('INSERT INTO users (idd,date,login,email) VALUES (?,?,?,?)',(idd,date,login,email))\n",
    "    conn.commit()\n",
    "\n",
    "def read_from_db():\n",
    "    c.execute('SELECT * FROM users')\n",
    "    data=c.fetchall()\n",
    "    print (data)\n",
    "    \n",
    "def check_db():\n",
    "    a='loginid18'\n",
    "    b=18\n",
    "    b=c.execute(\"SELECT EXISTS(SELECT 1 FROM users WHERE login=?) AND (SELECT 1 FROM users WHERE idd=?)\",(a,b)).fetchall()[0][0]\n",
    "    print (b)\n",
    "    #print (c.fetchall()[0][0])"
   ]
  },
  {
   "cell_type": "code",
   "execution_count": 63,
   "metadata": {},
   "outputs": [
    {
     "name": "stdout",
     "output_type": "stream",
     "text": [
      "[(1.0, '1-1-111', 'ala', 'ala@gamil'), (18.0, '04/25/2020', 'loginid18', 'loginid18@gmail.com'), (84.0, '04/25/2020', 'loginid84', 'loginid84@gmail.com'), (1.0, '04/25/2020', 'loginid1', 'loginid1@gmail.com'), (80.0, '04/25/2020', 'loginid80', 'loginid80@gmail.com'), (46.0, '04/25/2020', 'loginid46', 'loginid46@gmail.com'), (90.0, '04/25/2020', 'loginid90', 'loginid90@gmail.com'), (11.0, '04/25/2020', 'loginid11', 'loginid11@gmail.com'), (77.0, '04/25/2020', 'loginid77', 'loginid77@gmail.com'), (63.0, '04/25/2020', 'loginid63', 'loginid63@gmail.com'), (25.0, '04/25/2020', 'loginid25', 'loginid25@gmail.com')]\n",
      "1\n"
     ]
    }
   ],
   "source": [
    "read_from_db()\n",
    "check_db()"
   ]
  },
  {
   "cell_type": "code",
   "execution_count": 10,
   "metadata": {},
   "outputs": [],
   "source": [
    "#create_table()\n",
    "data_entry()\n",
    "for i in range(0,10):\n",
    "    dynamic_data_entry()"
   ]
  },
  {
   "cell_type": "code",
   "execution_count": null,
   "metadata": {},
   "outputs": [],
   "source": [
    "now=time.time()\n",
    "print (now)\n",
    "date= datetime.datetime.fromtimestamp(now).strftime('%m/%d/%Y')\n",
    "print (date)"
   ]
  },
  {
   "cell_type": "code",
   "execution_count": null,
   "metadata": {},
   "outputs": [],
   "source": [
    "random.randint(0,100)"
   ]
  },
  {
   "cell_type": "code",
   "execution_count": null,
   "metadata": {},
   "outputs": [],
   "source": [
    "INSERT INTO Third (FirstID, SecondID, SomeData)\n",
    "SELECT 123, 'foo', 'Interesting Data Here'\n",
    "WHERE EXISTS (SELECT 1 FROM First  WHERE FirstID  = 123)\n",
    "  AND EXISTS (SELECT 1 FROM Second WHERE SecondID = 'foo');\n"
   ]
  },
  {
   "cell_type": "code",
   "execution_count": null,
   "metadata": {},
   "outputs": [],
   "source": []
  }
 ],
 "metadata": {
  "kernelspec": {
   "display_name": "Python 3",
   "language": "python",
   "name": "python3"
  },
  "language_info": {
   "codemirror_mode": {
    "name": "ipython",
    "version": 3
   },
   "file_extension": ".py",
   "mimetype": "text/x-python",
   "name": "python",
   "nbconvert_exporter": "python",
   "pygments_lexer": "ipython3",
   "version": "3.6.10"
  }
 },
 "nbformat": 4,
 "nbformat_minor": 4
}
